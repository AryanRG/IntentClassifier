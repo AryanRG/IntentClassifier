{
 "cells": [
  {
   "cell_type": "code",
   "execution_count": 1,
   "id": "d70dab52",
   "metadata": {},
   "outputs": [],
   "source": [
    "import tensorflow as tf"
   ]
  },
  {
   "cell_type": "code",
   "execution_count": 2,
   "id": "22e7cca1",
   "metadata": {},
   "outputs": [],
   "source": [
    "import numpy as np\n",
    "import json\n",
    "\n",
    "with open('data_full.json') as file:\n",
    "    data = json.loads(file.read())\n",
    "    \n",
    "#load out of scope intent data\n",
    "val_oos = np.array(data['oos_val'])\n",
    "train_oos = np.array(data['oos_train'])\n",
    "test_oos = np.array(data['oos_test'])\n",
    "\n",
    "#load other intetn data\n",
    "val_others = np.array(data['val'])\n",
    "train_others = np.array(data['train'])\n",
    "test_others = np.array(data['test'])\n",
    "\n",
    "#merging out of scope and other intent data\n",
    "val = np.concatenate([val_oos,val_others])\n",
    "train = np.concatenate([train_oos, train_others])\n",
    "test = np.concatenate([test_oos,test_others])\n",
    "\n",
    "data =np.concatenate([train,test,val])\n",
    "data = data.T\n",
    "\n",
    "text = data[0]\n",
    "labels = data[1]"
   ]
  },
  {
   "cell_type": "code",
   "execution_count": 3,
   "id": "3f464b32",
   "metadata": {},
   "outputs": [],
   "source": [
    "from sklearn.model_selection import train_test_split\n",
    "\n",
    "train_txt,test_txt,train_label,test_labels = train_test_split(text,labels,test_size = 0.3)"
   ]
  },
  {
   "cell_type": "markdown",
   "id": "492f8799",
   "metadata": {},
   "source": [
    "Tokenizing"
   ]
  },
  {
   "cell_type": "code",
   "execution_count": 6,
   "id": "2cc5c3bb",
   "metadata": {},
   "outputs": [],
   "source": [
    "from tensorflow.keras.preprocessing.text import Tokenizer\n",
    "from tensorflow.keras.preprocessing.sequence import pad_sequences\n",
    "\n",
    "max_num_words = 40000\n",
    "classes = np.unique(labels)\n",
    "tokenizer = Tokenizer(num_words=max_num_words)\n",
    "tokenizer.fit_on_texts(train_txt)\n",
    "word_index = tokenizer.word_index\n"
   ]
  },
  {
   "cell_type": "code",
   "execution_count": 7,
   "id": "0ef2667e",
   "metadata": {},
   "outputs": [],
   "source": [
    "ls =[]\n",
    "for c in train_txt:\n",
    "    ls.append(len(c.split()))\n",
    "maxLen = int(np.percentile(ls,98))\n",
    "\n",
    "train_sequences = tokenizer.texts_to_sequences(train_txt)\n",
    "train_sequences = pad_sequences(train_sequences, maxlen=maxLen,\n",
    "                               padding='post')\n",
    "\n",
    "test_sequences = tokenizer.texts_to_sequences(test_txt)\n",
    "test_sequences = pad_sequences(test_sequences, maxlen =maxLen,\n",
    "                              padding='post')"
   ]
  },
  {
   "cell_type": "code",
   "execution_count": 8,
   "id": "dbb09961",
   "metadata": {},
   "outputs": [
    {
     "name": "stderr",
     "output_type": "stream",
     "text": [
      "/opt/homebrew/Caskroom/miniforge/base/envs/finenv/lib/python3.9/site-packages/sklearn/preprocessing/_encoders.py:828: FutureWarning: `sparse` was renamed to `sparse_output` in version 1.2 and will be removed in 1.4. `sparse_output` is ignored unless you leave `sparse` to its default value.\n",
      "  warnings.warn(\n"
     ]
    }
   ],
   "source": [
    "from sklearn.preprocessing import OneHotEncoder, LabelEncoder\n",
    "\n",
    "label_encoder = LabelEncoder()\n",
    "integer_encoded = label_encoder.fit_transform(classes)\n",
    "\n",
    "onehot_encoder = OneHotEncoder(sparse=False)\n",
    "integer_encoded = integer_encoded.reshape(len(integer_encoded),1)\n",
    "onehot_encoder.fit(integer_encoded)\n",
    "\n",
    "train_label_encoded = label_encoder.transform(train_label)\n",
    "train_label_encoded = train_label_encoded.reshape(len(train_label_encoded),1)\n",
    "train_label = onehot_encoder.transform(train_label_encoded)\n",
    "\n",
    "test_labels_encoded = label_encoder.transform(test_labels)\n",
    "test_labels_encoded = test_labels_encoded.reshape(len(test_labels_encoded),1)\n",
    "test_labels = onehot_encoder.transform(test_labels_encoded)"
   ]
  },
  {
   "cell_type": "code",
   "execution_count": 9,
   "id": "df35d5f7",
   "metadata": {},
   "outputs": [],
   "source": [
    "embeddings_index={}\n",
    "with open('glove.6B.100d.txt', encoding='utf8') as f:\n",
    "    for line in f:\n",
    "        values = line.split()\n",
    "        word = values[0]\n",
    "        coefs = np.asarray(values[1:],dtype='float32')\n",
    "        embeddings_index[word] = coefs"
   ]
  },
  {
   "cell_type": "code",
   "execution_count": 10,
   "id": "286f4e99",
   "metadata": {
    "scrolled": true
   },
   "outputs": [
    {
     "name": "stderr",
     "output_type": "stream",
     "text": [
      "/opt/homebrew/Caskroom/miniforge/base/envs/finenv/lib/python3.9/site-packages/IPython/core/interactiveshell.py:3400: FutureWarning: arrays to stack must be passed as a \"sequence\" type such as list or tuple. Support for non-sequence iterables such as generators is deprecated as of NumPy 1.16 and will raise an error in the future.\n",
      "  if await self.run_code(code, result, async_=asy):\n"
     ]
    }
   ],
   "source": [
    "all_embs = np.stack(embeddings_index.values())\n",
    "emb_mean,emb_std = all_embs.mean(), all_embs.std()\n",
    "\n",
    "num_words = min(max_num_words, len(word_index))+1\n",
    "\n",
    "embedding_dim = len(embeddings_index['the'])\n",
    "\n",
    "embedding_matrix = np.random.normal(emb_mean,emb_std,(num_words,\n",
    "                                                     embedding_dim))\n",
    "for word, i in word_index.items():\n",
    "    if i >=max_num_words:\n",
    "        break\n",
    "    embedding_vector = embeddings_index.get(word)\n",
    "    if embedding_vector is not None:\n",
    "        embedding_matrix[i] = embedding_vector"
   ]
  },
  {
   "cell_type": "code",
   "execution_count": 16,
   "id": "c3105bfc",
   "metadata": {},
   "outputs": [
    {
     "name": "stdout",
     "output_type": "stream",
     "text": [
      "WARNING:tensorflow:Layer lstm_2 will not use cuDNN kernels since it doesn't meet the criteria. It will use a generic GPU kernel as fallback when running on GPU.\n",
      "WARNING:tensorflow:Layer lstm_2 will not use cuDNN kernels since it doesn't meet the criteria. It will use a generic GPU kernel as fallback when running on GPU.\n",
      "WARNING:tensorflow:Layer lstm_2 will not use cuDNN kernels since it doesn't meet the criteria. It will use a generic GPU kernel as fallback when running on GPU.\n",
      "WARNING:tensorflow:Layer lstm_3 will not use cuDNN kernels since it doesn't meet the criteria. It will use a generic GPU kernel as fallback when running on GPU.\n"
     ]
    }
   ],
   "source": [
    "from tensorflow.keras.models import Sequential\n",
    "from tensorflow.keras.layers import Dense, Input, Dropout,LSTM, Activation, Bidirectional, Embedding\n",
    "\n",
    "model = Sequential()\n",
    "\n",
    "model.add(Embedding(num_words, 100,\n",
    "                  trainable=False, input_length=train_sequences.shape[1],\n",
    "                  weights=[embedding_matrix]))\n",
    "model.add(Bidirectional(LSTM(256, return_sequences=True,\n",
    "                            recurrent_dropout=0.1, dropout=0.1),'concat'))\n",
    "model.add(Dropout(0.3))\n",
    "model.add(LSTM(256, return_sequences=False, recurrent_dropout=0.1,\n",
    "         dropout=0.1))\n",
    "model.add(Dropout(0.3))\n",
    "model.add(Dense(50,activation='relu'))\n",
    "model.add(Dropout(0.3))\n",
    "model.add(Dense(classes.shape[0], activation='softmax'))\n",
    "\n",
    "model.compile(loss='categorical_crossentropy', optimizer='adam',\n",
    "             metrics=['acc'])"
   ]
  },
  {
   "cell_type": "code",
   "execution_count": 9,
   "id": "e0ed34f2",
   "metadata": {},
   "outputs": [
    {
     "name": "stdout",
     "output_type": "stream",
     "text": [
      "Model: \"sequential_1\"\n",
      "_________________________________________________________________\n",
      " Layer (type)                Output Shape              Param #   \n",
      "=================================================================\n",
      " embedding_1 (Embedding)     (None, 16, 100)           635700    \n",
      "                                                                 \n",
      " bidirectional_1 (Bidirectio  (None, 16, 512)          731136    \n",
      " nal)                                                            \n",
      "                                                                 \n",
      " dropout_3 (Dropout)         (None, 16, 512)           0         \n",
      "                                                                 \n",
      " lstm_3 (LSTM)               (None, 256)               787456    \n",
      "                                                                 \n",
      " dropout_4 (Dropout)         (None, 256)               0         \n",
      "                                                                 \n",
      " dense_2 (Dense)             (None, 50)                12850     \n",
      "                                                                 \n",
      " dropout_5 (Dropout)         (None, 50)                0         \n",
      "                                                                 \n",
      " dense_3 (Dense)             (None, 151)               7701      \n",
      "                                                                 \n",
      "=================================================================\n",
      "Total params: 2,174,843\n",
      "Trainable params: 1,539,143\n",
      "Non-trainable params: 635,700\n",
      "_________________________________________________________________\n"
     ]
    }
   ],
   "source": [
    "model.summary()"
   ]
  },
  {
   "cell_type": "code",
   "execution_count": 17,
   "id": "d079e759",
   "metadata": {
    "scrolled": false
   },
   "outputs": [
    {
     "name": "stdout",
     "output_type": "stream",
     "text": [
      "Epoch 1/20\n"
     ]
    },
    {
     "name": "stderr",
     "output_type": "stream",
     "text": [
      "2023-03-04 01:52:26.480084: I tensorflow/core/grappler/optimizers/custom_graph_optimizer_registry.cc:113] Plugin optimizer for device_type GPU is enabled.\n"
     ]
    },
    {
     "name": "stdout",
     "output_type": "stream",
     "text": [
      "260/260 [==============================] - ETA: 0s - loss: 4.7827 - acc: 0.0412"
     ]
    },
    {
     "name": "stderr",
     "output_type": "stream",
     "text": [
      "2023-03-04 02:02:22.429056: I tensorflow/core/grappler/optimizers/custom_graph_optimizer_registry.cc:113] Plugin optimizer for device_type GPU is enabled.\n"
     ]
    },
    {
     "name": "stdout",
     "output_type": "stream",
     "text": [
      "260/260 [==============================] - 616s 2s/step - loss: 4.7827 - acc: 0.0412 - val_loss: 4.0773 - val_acc: 0.0768\n",
      "Epoch 2/20\n",
      "260/260 [==============================] - 667s 3s/step - loss: 3.6233 - acc: 0.1141 - val_loss: 2.7831 - val_acc: 0.2678\n",
      "Epoch 3/20\n",
      "260/260 [==============================] - 590s 2s/step - loss: 2.5292 - acc: 0.2983 - val_loss: 1.7841 - val_acc: 0.5224\n",
      "Epoch 4/20\n",
      "260/260 [==============================] - 521s 2s/step - loss: 1.7886 - acc: 0.4898 - val_loss: 1.3064 - val_acc: 0.6346\n",
      "Epoch 5/20\n",
      "260/260 [==============================] - 581s 2s/step - loss: 1.3274 - acc: 0.6248 - val_loss: 0.9617 - val_acc: 0.7378\n",
      "Epoch 6/20\n",
      "260/260 [==============================] - 575s 2s/step - loss: 1.0059 - acc: 0.7168 - val_loss: 0.8111 - val_acc: 0.7752\n",
      "Epoch 7/20\n",
      "260/260 [==============================] - 586s 2s/step - loss: 0.8239 - acc: 0.7662 - val_loss: 0.7144 - val_acc: 0.8059\n",
      "Epoch 8/20\n",
      "260/260 [==============================] - 488s 2s/step - loss: 0.6724 - acc: 0.8113 - val_loss: 0.6545 - val_acc: 0.8208\n",
      "Epoch 9/20\n",
      "260/260 [==============================] - 495s 2s/step - loss: 0.5571 - acc: 0.8450 - val_loss: 0.6065 - val_acc: 0.8416\n",
      "Epoch 10/20\n",
      "260/260 [==============================] - 499s 2s/step - loss: 0.4879 - acc: 0.8629 - val_loss: 0.5784 - val_acc: 0.8466\n",
      "Epoch 11/20\n",
      "260/260 [==============================] - 502s 2s/step - loss: 0.4116 - acc: 0.8852 - val_loss: 0.5825 - val_acc: 0.8474\n",
      "Epoch 12/20\n",
      "260/260 [==============================] - 498s 2s/step - loss: 0.3592 - acc: 0.8999 - val_loss: 0.5636 - val_acc: 0.8613\n",
      "Epoch 13/20\n",
      "260/260 [==============================] - 490s 2s/step - loss: 0.3208 - acc: 0.9089 - val_loss: 0.5467 - val_acc: 0.8682\n",
      "Epoch 14/20\n",
      "260/260 [==============================] - 495s 2s/step - loss: 0.2760 - acc: 0.9247 - val_loss: 0.5585 - val_acc: 0.8654\n",
      "Epoch 15/20\n",
      "260/260 [==============================] - 498s 2s/step - loss: 0.2526 - acc: 0.9282 - val_loss: 0.5308 - val_acc: 0.8805\n",
      "Epoch 16/20\n",
      "260/260 [==============================] - 499s 2s/step - loss: 0.2232 - acc: 0.9383 - val_loss: 0.5422 - val_acc: 0.8743\n",
      "Epoch 17/20\n",
      "260/260 [==============================] - 507s 2s/step - loss: 0.2010 - acc: 0.9431 - val_loss: 0.5639 - val_acc: 0.8803\n",
      "Epoch 18/20\n",
      "260/260 [==============================] - 508s 2s/step - loss: 0.1835 - acc: 0.9477 - val_loss: 0.5572 - val_acc: 0.8799\n",
      "Epoch 19/20\n",
      "260/260 [==============================] - 486s 2s/step - loss: 0.1832 - acc: 0.9498 - val_loss: 0.5563 - val_acc: 0.8842\n",
      "Epoch 20/20\n",
      "260/260 [==============================] - 486s 2s/step - loss: 0.1458 - acc: 0.9589 - val_loss: 0.5385 - val_acc: 0.8869\n"
     ]
    }
   ],
   "source": [
    "history = model.fit(train_sequences, train_label, epochs=20,\n",
    "                   batch_size = 64, shuffle=True,\n",
    "                   validation_data=[test_sequences, test_labels])"
   ]
  },
  {
   "cell_type": "code",
   "execution_count": 18,
   "id": "df2eee27",
   "metadata": {},
   "outputs": [
    {
     "data": {
      "image/png": "[encoded data removed]",
      "text/plain": [
       "<Figure size 640x480 with 1 Axes>"
      ]
     },
     "metadata": {},
     "output_type": "display_data"
    }
   ],
   "source": [
    "import matplotlib.pyplot as plt\n",
    "%matplotlib inline\n",
    "\n",
    "plt.plot(history.history['acc'])\n",
    "plt.plot(history.history['val_acc'])\n",
    "plt.title('Model Accuracy')\n",
    "plt.ylabel('Acuracy')\n",
    "plt.xlabel('Epoch')\n",
    "plt.legend(['Train','Validation'], loc = 'upper left')\n",
    "plt.show()"
   ]
  },
  {
   "cell_type": "code",
   "execution_count": 19,
   "id": "8de78113",
   "metadata": {},
   "outputs": [
    {
     "data": {
      "image/png": "[encoded data removed]",
      "text/plain": [
       "<Figure size 640x480 with 1 Axes>"
      ]
     },
     "metadata": {},
     "output_type": "display_data"
    }
   ],
   "source": [
    "import matplotlib.pyplot as plt\n",
    "%matplotlib inline\n",
    "plt.plot(history.history['loss'])\n",
    "plt.plot(history.history['val_loss'])\n",
    "plt.title('Model Loss')\n",
    "plt.ylabel('Loss')\n",
    "plt.xlabel('Epoch')\n",
    "plt.legend(['Train', 'Validation'], loc='upper left')\n",
    "plt.show()"
   ]
  },
  {
   "cell_type": "code",
   "execution_count": 20,
   "id": "9b285ee4",
   "metadata": {},
   "outputs": [],
   "source": [
    "import pickle\n",
    "import json\n",
    "\n",
    "model.save('models/intents_tff.h5')\n",
    "\n",
    "with open('utils/classes_tff.pkl','wb') as file:\n",
    "   pickle.dump(classes,file)\n",
    "\n",
    "with open('utils/tokenizer_tff.pkl','wb') as file:\n",
    "   pickle.dump(tokenizer,file)\n",
    "\n",
    "with open('utils/label_encoder_tff.pkl','wb') as file:\n",
    "   pickle.dump(label_encoder,file)"
   ]
  },
  {
   "cell_type": "code",
   "execution_count": 3,
   "id": "2e540513",
   "metadata": {},
   "outputs": [],
   "source": [
    "import numpy as np\n",
    "from keras.preprocessing.sequence import pad_sequences\n",
    "class IntentClassifier:\n",
    "    def __init__(self,classes,model,tokenizer,label_encoder):\n",
    "        self.classes = classes\n",
    "        self.classifier = model\n",
    "        self.tokenizer = tokenizer\n",
    "        self.label_encoder = label_encoder\n",
    "\n",
    "    def get_intent(self,text):\n",
    "        self.text = [text]\n",
    "        self.test_keras = self.tokenizer.texts_to_sequences(self.text)\n",
    "        self.test_keras_sequence = pad_sequences(self.test_keras, maxlen=16, padding='post')\n",
    "        self.pred = self.classifier.predict(self.test_keras_sequence)\n",
    "        return self.label_encoder.inverse_transform(np.argmax(self.pred,1))[0]"
   ]
  },
  {
   "cell_type": "code",
   "execution_count": 1,
   "id": "c601d99b",
   "metadata": {},
   "outputs": [
    {
     "name": "stdout",
     "output_type": "stream",
     "text": [
      "Metal device set to: Apple M1 Pro\n",
      "WARNING:tensorflow:Layer lstm_2 will not use cuDNN kernels since it doesn't meet the criteria. It will use a generic GPU kernel as fallback when running on GPU.\n",
      "WARNING:tensorflow:Layer lstm_2 will not use cuDNN kernels since it doesn't meet the criteria. It will use a generic GPU kernel as fallback when running on GPU.\n",
      "WARNING:tensorflow:Layer lstm_2 will not use cuDNN kernels since it doesn't meet the criteria. It will use a generic GPU kernel as fallback when running on GPU.\n"
     ]
    },
    {
     "name": "stderr",
     "output_type": "stream",
     "text": [
      "2023-03-06 10:29:32.424975: I tensorflow/core/common_runtime/pluggable_device/pluggable_device_factory.cc:305] Could not identify NUMA node of platform GPU ID 0, defaulting to 0. Your kernel may not have been built with NUMA support.\n",
      "2023-03-06 10:29:32.425265: I tensorflow/core/common_runtime/pluggable_device/pluggable_device_factory.cc:271] Created TensorFlow device (/job:localhost/replica:0/task:0/device:GPU:0 with 0 MB memory) -> physical PluggableDevice (device: 0, name: METAL, pci bus id: <undefined>)\n"
     ]
    },
    {
     "name": "stdout",
     "output_type": "stream",
     "text": [
      "WARNING:tensorflow:Layer lstm_3 will not use cuDNN kernels since it doesn't meet the criteria. It will use a generic GPU kernel as fallback when running on GPU.\n"
     ]
    }
   ],
   "source": [
    "import pickle\n",
    "\n",
    "from tensorflow.keras.models import load_model\n",
    "model = load_model('models/intents_tff.h5')\n",
    "\n",
    "with open('utils/classes_tff.pkl','rb') as file:\n",
    "  classes = pickle.load(file)\n",
    "\n",
    "with open('utils/tokenizer_tff.pkl','rb') as file:\n",
    "  tokenizer = pickle.load(file)\n",
    "\n",
    "with open('utils/label_encoder_tff.pkl','rb') as file:\n",
    "  label_encoder = pickle.load(file)"
   ]
  },
  {
   "cell_type": "code",
   "execution_count": 4,
   "id": "4f48baad",
   "metadata": {},
   "outputs": [
    {
     "name": "stderr",
     "output_type": "stream",
     "text": [
      "2023-03-06 10:29:59.440075: W tensorflow/core/platform/profile_utils/cpu_utils.cc:128] Failed to get CPU frequency: 0 Hz\n",
      "2023-03-06 10:29:59.586191: I tensorflow/core/grappler/optimizers/custom_graph_optimizer_registry.cc:113] Plugin optimizer for device_type GPU is enabled.\n"
     ]
    },
    {
     "name": "stdout",
     "output_type": "stream",
     "text": [
      "weather\n"
     ]
    }
   ],
   "source": [
    "nlu = IntentClassifier(classes,model,tokenizer,label_encoder)\n",
    "print(nlu.get_intent(\"what temperature is it in Delhi \"))\n",
    "# Should Print 'weather'"
   ]
  },
  {
   "cell_type": "code",
   "execution_count": 5,
   "id": "c8fff51d",
   "metadata": {},
   "outputs": [
    {
     "name": "stdout",
     "output_type": "stream",
     "text": [
      "recipe\n"
     ]
    }
   ],
   "source": [
    "nlu = IntentClassifier(classes,model,tokenizer,label_encoder)\n",
    "print(nlu.get_intent(\"I love eating pasta\"))"
   ]
  },
  {
   "cell_type": "code",
   "execution_count": 17,
   "id": "3d0efee3",
   "metadata": {},
   "outputs": [
    {
     "name": "stdout",
     "output_type": "stream",
     "text": [
      "restaurant_suggestion\n"
     ]
    }
   ],
   "source": [
    "nlu = IntentClassifier(classes,model,tokenizer,label_encoder)\n",
    "print(nlu.get_intent(\"Tell me a good restaurant to eat pasta\"))"
   ]
  },
  {
   "cell_type": "code",
   "execution_count": 18,
   "id": "5a1c1e87",
   "metadata": {},
   "outputs": [
    {
     "name": "stdout",
     "output_type": "stream",
     "text": [
      "confirm_reservation\n"
     ]
    }
   ],
   "source": [
    "nlu = IntentClassifier(classes,model,tokenizer,label_encoder)\n",
    "print(nlu.get_intent(\"Change me booking to Friday \"))"
   ]
  },
  {
   "cell_type": "code",
   "execution_count": 19,
   "id": "5fc0f125",
   "metadata": {},
   "outputs": [
    {
     "name": "stdout",
     "output_type": "stream",
     "text": [
      "translate\n"
     ]
    }
   ],
   "source": [
    "nlu = IntentClassifier(classes,model,tokenizer,label_encoder)\n",
    "print(nlu.get_intent(\"Say hi in spanish\"))"
   ]
  },
  {
   "cell_type": "code",
   "execution_count": 13,
   "id": "7b33ebe7",
   "metadata": {},
   "outputs": [
    {
     "name": "stdout",
     "output_type": "stream",
     "text": [
      "oos\n"
     ]
    }
   ],
   "source": [
    "nlu = IntentClassifier(classes,model,tokenizer,label_encoder)\n",
    "print(nlu.get_intent(\"Change the order number to 6\"))\n",
    "#out of scope"
   ]
  },
  {
   "cell_type": "code",
   "execution_count": 16,
   "id": "470649bb",
   "metadata": {},
   "outputs": [
    {
     "name": "stdout",
     "output_type": "stream",
     "text": [
      "where_are_you_from\n"
     ]
    }
   ],
   "source": [
    "nlu = IntentClassifier(classes,model,tokenizer,label_encoder)\n",
    "print(nlu.get_intent(\"What is your nationality?\"))"
   ]
  },
  {
   "cell_type": "code",
   "execution_count": 15,
   "id": "5221bc18",
   "metadata": {},
   "outputs": [
    {
     "name": "stdout",
     "output_type": "stream",
     "text": [
      "what_is_your_name\n"
     ]
    }
   ],
   "source": [
    "nlu = IntentClassifier(classes,model,tokenizer,label_encoder)\n",
    "print(nlu.get_intent(\"What is your name?\"))"
   ]
  },
  {
   "cell_type": "code",
   "execution_count": null,
   "id": "80790b56",
   "metadata": {},
   "outputs": [],
   "source": []
  }
 ],
 "metadata": {
  "kernelspec": {
   "display_name": "Python 3 (ipykernel)",
   "language": "python",
   "name": "python3"
  },
  "language_info": {
   "codemirror_mode": {
    "name": "ipython",
    "version": 3
   },
   "file_extension": ".py",
   "mimetype": "text/x-python",
   "name": "python",
   "nbconvert_exporter": "python",
   "pygments_lexer": "ipython3",
   "version": "3.9.0"
  }
 },
 "nbformat": 4,
 "nbformat_minor": 5
}
